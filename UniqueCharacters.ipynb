{
 "cells": [
  {
   "cell_type": "markdown",
   "metadata": {},
   "source": [
    "Check for unique characters"
   ]
  },
  {
   "cell_type": "markdown",
   "metadata": {},
   "source": [
    "Algorithm 1: Sets and Length Comparison\n",
    "A set is an unordered collection of unique elements.\n",
    "\n",
    "If the length of the set(string) equals the length of the string\n",
    "Return True\n",
    "Else\n",
    "Return False\n",
    "Complexity:\n",
    "\n",
    "Time: O(n)\n",
    "Space: Additional O(n)"
   ]
  },
  {
   "cell_type": "code",
   "execution_count": 1,
   "metadata": {
    "collapsed": true
   },
   "outputs": [],
   "source": [
    "class UniqueCharsSet(object):\n",
    "\n",
    "    def has_unique_chars(self, string):\n",
    "        if string is None:\n",
    "            return False\n",
    "        return len(set(string)) == len(string)"
   ]
  },
  {
   "cell_type": "markdown",
   "metadata": {},
   "source": [
    "Algorithm 2: Hash Map Lookup\n",
    "We'll keep a hash map (set) to keep track of unique characters we encounter.\n",
    "\n",
    "Steps:\n",
    "\n",
    "Scan each character\n",
    "For each character:\n",
    "If the character does not exist in a hash map, add the character to a hash map\n",
    "Else, return False\n",
    "Return True\n",
    "Notes:\n",
    "\n",
    "We could also use a dictionary, but it seems more logical to use a set as it does not contain duplicate elements\n",
    "Since the characters are in ASCII, we could potentially use an array of size 128 (or 256 for extended ASCII)\n",
    "Complexity:\n",
    "\n",
    "Time: O(n)\n",
    "Space: Additional O(n)"
   ]
  },
  {
   "cell_type": "code",
   "execution_count": 2,
   "metadata": {
    "collapsed": true
   },
   "outputs": [],
   "source": [
    "class UniqueChars(object):\n",
    "\n",
    "    def has_unique_chars(self, string):\n",
    "        if string is None:\n",
    "            return False\n",
    "        chars_set = set()\n",
    "        for char in string:\n",
    "            if char in chars_set:\n",
    "                return False\n",
    "            else:\n",
    "                chars_set.add(char)\n",
    "        return True"
   ]
  },
  {
   "cell_type": "markdown",
   "metadata": {},
   "source": [
    "Algorithm 3: In-Place\n",
    "Assume we cannot use additional data structures, which will eliminate the fast lookup O(1) time provided by our hash map.\n",
    "\n",
    "Scan each character\n",
    "For each character:\n",
    "Scan all [other] characters in the array\n",
    "Excluding the current character from the scan is rather tricky in Python and results in a non-Pythonic solution\n",
    "If there is a match, return False\n",
    "Return True\n",
    "Algorithm Complexity:\n",
    "\n",
    "Time: O(n^2)\n",
    "Space: O(1)"
   ]
  },
  {
   "cell_type": "code",
   "execution_count": 3,
   "metadata": {
    "collapsed": true
   },
   "outputs": [],
   "source": [
    "class UniqueCharsInPlace(object):\n",
    "\n",
    "    def has_unique_chars(self, string):\n",
    "        if string is None:\n",
    "            return False\n",
    "        for char in string:\n",
    "            if string.count(char) > 1:\n",
    "                return False\n",
    "        return True\n"
   ]
  },
  {
   "cell_type": "code",
   "execution_count": 13,
   "metadata": {
    "collapsed": false
   },
   "outputs": [
    {
     "name": "stdout",
     "output_type": "stream",
     "text": [
      "Overwriting test_unique_chars.py\n"
     ]
    }
   ],
   "source": [
    "%%writefile test_unique_chars.py\n",
    "from nose.tools import assert_equal\n",
    "\n",
    "\n",
    "class TestUniqueChars(object):\n",
    "\n",
    "    def test_unique_chars(self, func):\n",
    "        assert_equal(func(None), False)\n",
    "        assert_equal(func(''), True)\n",
    "        assert_equal(func('foo'), False)\n",
    "        assert_equal(func('bar'), True)\n",
    "        print('Success: test_unique_chars')\n",
    "\n",
    "\n",
    "def main():\n",
    "    test = TestUniqueChars()\n",
    "    unique_chars = UniqueChars()\n",
    "    test.test_unique_chars(unique_chars.has_unique_chars)\n",
    "    try:\n",
    "        unique_chars_set = UniqueCharsSet()\n",
    "        test.test_unique_chars(unique_chars_set.has_unique_chars)\n",
    "        unique_chars_in_place = UniqueCharsInPlace()\n",
    "        test.test_unique_chars(unique_chars_in_place.has_unique_chars)\n",
    "    except NameError:\n",
    "        \n",
    "        \n",
    "        pass\n",
    "\n",
    "\n",
    "if __name__ == '__main__':\n",
    "    main()"
   ]
  },
  {
   "cell_type": "code",
   "execution_count": 14,
   "metadata": {
    "collapsed": false
   },
   "outputs": [
    {
     "name": "stdout",
     "output_type": "stream",
     "text": [
      "Success: test_unique_chars\n",
      "Success: test_unique_chars\n",
      "Success: test_unique_chars\n"
     ]
    }
   ],
   "source": [
    "%run -i test_unique_chars.py"
   ]
  },
  {
   "cell_type": "code",
   "execution_count": null,
   "metadata": {
    "collapsed": true
   },
   "outputs": [],
   "source": []
  }
 ],
 "metadata": {
  "kernelspec": {
   "display_name": "Python [Root]",
   "language": "python",
   "name": "Python [Root]"
  },
  "language_info": {
   "codemirror_mode": {
    "name": "ipython",
    "version": 3
   },
   "file_extension": ".py",
   "mimetype": "text/x-python",
   "name": "python",
   "nbconvert_exporter": "python",
   "pygments_lexer": "ipython3",
   "version": "3.5.1"
  }
 },
 "nbformat": 4,
 "nbformat_minor": 0
}
